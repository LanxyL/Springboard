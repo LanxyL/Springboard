{
 "cells": [
  {
   "cell_type": "markdown",
   "metadata": {},
   "source": [
    "This exercise will require you to pull some data from the Qunadl API. Qaundl is currently the most widely used aggregator of financial market data."
   ]
  },
  {
   "cell_type": "markdown",
   "metadata": {},
   "source": [
    "As a first step, you will need to register a free account on the http://www.quandl.com website."
   ]
  },
  {
   "cell_type": "markdown",
   "metadata": {},
   "source": [
    "After you register, you will be provided with a unique API key, that you should store:"
   ]
  },
  {
   "cell_type": "code",
   "execution_count": 1,
   "metadata": {},
   "outputs": [],
   "source": [
    "# Store the API key as a string - according to PEP8, constants are always named in all upper case\n",
    "API_KEY = 'CTNawNCThDwEcqGUzmzS'"
   ]
  },
  {
   "cell_type": "markdown",
   "metadata": {},
   "source": [
    "Qaundl has a large number of data sources, but, unfortunately, most of them require a Premium subscription. Still, there are also a good number of free datasets."
   ]
  },
  {
   "cell_type": "markdown",
   "metadata": {},
   "source": [
    "For this mini project, we will focus on equities data from the Frankfurt Stock Exhange (FSE), which is available for free. We'll try and analyze the stock prices of a company called Carl Zeiss Meditec, which manufactures tools for eye examinations, as well as medical lasers for laser eye surgery: https://www.zeiss.com/meditec/int/home.html. The company is listed under the stock ticker AFX_X."
   ]
  },
  {
   "cell_type": "markdown",
   "metadata": {},
   "source": [
    "You can find the detailed Quandl API instructions here: https://docs.quandl.com/docs/time-series"
   ]
  },
  {
   "cell_type": "markdown",
   "metadata": {},
   "source": [
    "While there is a dedicated Python package for connecting to the Quandl API, we would prefer that you use the *requests* package, which can be easily downloaded using *pip* or *conda*. You can find the documentation for the package here: http://docs.python-requests.org/en/master/ "
   ]
  },
  {
   "cell_type": "markdown",
   "metadata": {},
   "source": [
    "Finally, apart from the *requests* package, you are encouraged to not use any third party Python packages, such as *pandas*, and instead focus on what's available in the Python Standard Library (the *collections* module might come in handy: https://pymotw.com/3/collections/ ).\n",
    "Also, since you won't have access to DataFrames, you are encouraged to us Python's native data structures - preferably dictionaries, though some questions can also be answered using lists.\n",
    "You can read more on these data structures here: https://docs.python.org/3/tutorial/datastructures.html"
   ]
  },
  {
   "cell_type": "markdown",
   "metadata": {},
   "source": [
    "Keep in mind that the JSON responses you will be getting from the API map almost one-to-one to Python's dictionaries. Unfortunately, they can be very nested, so make sure you read up on indexing dictionaries in the documentation provided above."
   ]
  },
  {
   "cell_type": "code",
   "execution_count": 2,
   "metadata": {},
   "outputs": [],
   "source": [
    "# First, import the relevant modules\n",
    "import quandl\n",
    "import json\n",
    "import requests"
   ]
  },
  {
   "cell_type": "code",
   "execution_count": 3,
   "metadata": {
    "scrolled": true
   },
   "outputs": [
    {
     "name": "stdout",
     "output_type": "stream",
     "text": [
      "{\"dataset\":{\"id\":10095370,\"dataset_code\":\"AFX_X\",\"database_code\":\"FSE\",\"name\":\"Carl Zeiss Meditec (AFX_X)\",\"description\":\"Stock Prices for Carl Zeiss Meditec (2020-11-02) from the Frankfurt Stock Exchange.\\u003cbr\\u003e\\u003cbr\\u003eTrading System: Xetra\\u003cbr\\u003e\\u003cbr\\u003eISIN: DE0005313704\",\"refreshed_at\":\"2020-12-01T14:48:09.907Z\",\"newest_available_date\":\"2020-12-01\",\"oldest_available_date\":\"2000-06-07\",\"column_names\":[\"Date\",\"Open\",\"High\",\"Low\",\"Close\",\"Change\",\"Traded Volume\",\"Turnover\",\"Last Price of the Day\",\"Daily Traded Units\",\"Daily Turnover\"],\"frequency\":\"daily\",\"type\":\"Time Series\",\"premium\":false,\"limit\":null,\"transform\":null,\"column_index\":null,\"start_date\":\"2017-04-05\",\"end_date\":\"2017-04-06\",\"data\":[[\"2017-04-06\",40.96,41.25,40.83,41.05,null,96794.0,3968681.0,null,null,null],[\"2017-04-05\",41.1,41.34,40.79,41.1,null,156005.0,6404780.0,null,null,null]],\"collapse\":null,\"order\":null,\"database_id\":6129}}\n"
     ]
    }
   ],
   "source": [
    "# Now, call the Quandl API and pull out a small sample of the data (only one day) to get a glimpse\n",
    "# into the JSON structure that will be returned\n",
    "url = 'https://www.quandl.com/api/v3/datasets/FSE/AFX_X.json?start_date=2017-04-05&end_date=2017-04-06&api_key='+API_KEY\n",
    "r = requests.get(url)\n",
    "print(r.text)"
   ]
  },
  {
   "cell_type": "code",
   "execution_count": null,
   "metadata": {
    "collapsed": true
   },
   "outputs": [],
   "source": [
    "# Inspect the JSON structure of the object you created, and take note of how nested it is,\n",
    "# as well as the overall structure\n"
   ]
  },
  {
   "cell_type": "markdown",
   "metadata": {},
   "source": [
    "These are your tasks for this mini project:\n",
    "\n",
    "1. Collect data from the Franfurt Stock Exchange, for the ticker AFX_X, for the whole year 2017 (keep in mind that the date format is YYYY-MM-DD).\n",
    "2. Convert the returned JSON object into a Python dictionary.\n",
    "3. Calculate what the highest and lowest opening prices were for the stock in this period.\n",
    "4. What was the largest change in any one day (based on High and Low price)?\n",
    "5. What was the largest change between any two days (based on Closing Price)?\n",
    "6. What was the average daily trading volume during this year?\n",
    "7. (Optional) What was the median trading volume during this year. (Note: you may need to implement your own function for calculating the median.)"
   ]
  },
  {
   "cell_type": "code",
   "execution_count": 4,
   "metadata": {},
   "outputs": [
    {
     "name": "stdout",
     "output_type": "stream",
     "text": [
      "Highest opening price for AFX_X in 2017 is 53.11, Lowest opening price is 34.0.\n"
     ]
    }
   ],
   "source": [
    "url = 'https://www.quandl.com/api/v3/datasets/FSE/AFX_X.json?start_date=2017-01-01&end_date=2017-12-31&api_key='+API_KEY\n",
    "r = requests.get(url)\n",
    "#Decode the JSON data into a dictionary\n",
    "json_data = r.json()\n",
    "daily_price = json_data['dataset']['data']\n",
    "#Extract all openprice to a new list: openprice\n",
    "openprice = []\n",
    "for price in daily_price:\n",
    "    if price[1] != None:\n",
    "        openprice.append(price[1])\n",
    "#Find the highest and loweest opening prices in 2017\n",
    "max_openprice = max(openprice)\n",
    "min_openprice = min(openprice)\n",
    "print('Highest opening price for AFX_X in 2017 is '+str(max_openprice)+', Lowest opening price is '+str(min_openprice)+'.')"
   ]
  },
  {
   "cell_type": "code",
   "execution_count": 5,
   "metadata": {},
   "outputs": [
    {
     "name": "stdout",
     "output_type": "stream",
     "text": [
      "Largest change in any one day happens on 2017-05-11, the change is 6.50%.\n"
     ]
    }
   ],
   "source": [
    "#Compute daily change based on High and Low price to a new list: pricechange\n",
    "pricechange = []\n",
    "date = []\n",
    "for price in daily_price:\n",
    "    if (price[2] != None) & (price[3] != None):\n",
    "        pricechange.append(price[2]/price[3]-1)\n",
    "        date.append(price[0])\n",
    "#Find the largest change in one day in 2017\n",
    "max_pricechange = max(pricechange)\n",
    "maxday = date[pricechange.index(max_pricechange)]\n",
    "print('Largest change in any one day happens on '+str(maxday)+', the change is '+\"{:.2f}\".format(max_pricechange*100)+'%.')"
   ]
  },
  {
   "cell_type": "code",
   "execution_count": 6,
   "metadata": {},
   "outputs": [
    {
     "name": "stdout",
     "output_type": "stream",
     "text": [
      "Largest increase between any two days is 3.99%, largest decrease between any two days is -5.77%.\n"
     ]
    }
   ],
   "source": [
    "#Obtain change between any two days based on closing price\n",
    "url = 'https://www.quandl.com/api/v3/datasets/FSE/AFX_X.json?column_index=4&start_date=2017-01-01&end_date=2017-12-31&transform=rdiff&api_key='+API_KEY\n",
    "r = requests.get(url)\n",
    "#Decode the JSON data into a dictionary\n",
    "json_data = r.json()\n",
    "closingchange = json_data['dataset']['data']\n",
    "#Extract all % change to a new list: closingrdiff\n",
    "closingrdiff = []\n",
    "for rdiff in closingchange:\n",
    "    if rdiff[1] != None:\n",
    "        closingrdiff.append(rdiff[1])\n",
    "#Find the highest and loweest opening prices in 2017\n",
    "max_increase = max(closingrdiff)\n",
    "max_decrease = min(closingrdiff)\n",
    "print('Largest increase between any two days is '+\"{:.2f}\".format(max_increase*100)+'%, '+'largest decrease between any two days is '+\"{:.2f}\".format(max_decrease*100)+'%.')"
   ]
  },
  {
   "cell_type": "code",
   "execution_count": 7,
   "metadata": {},
   "outputs": [
    {
     "name": "stdout",
     "output_type": "stream",
     "text": [
      "The average daily trading volume is 89124.34 in 2017.\n"
     ]
    }
   ],
   "source": [
    "#Extract all daily volume to a new list: dailyvolume\n",
    "dailyvolume = []\n",
    "for price in daily_price:\n",
    "    if price[6] != None:\n",
    "        dailyvolume.append(price[6])\n",
    "print('The average daily trading volume is '+\"{:.2f}\".format(sum(dailyvolume)/len(dailyvolume))+' in 2017.')"
   ]
  },
  {
   "cell_type": "code",
   "execution_count": 8,
   "metadata": {},
   "outputs": [
    {
     "name": "stdout",
     "output_type": "stream",
     "text": [
      "The median trading volume during 2017 is 76286.0.\n"
     ]
    }
   ],
   "source": [
    "#sort dailyvolume\n",
    "#dailyvolume = dailyvolume.sort()\n",
    "dailyvolume = sorted(dailyvolume)\n",
    "median = dailyvolume[int((len(dailyvolume)-1)/2)]\n",
    "print('The median trading volume during 2017 is '+str(median)+'.')"
   ]
  },
  {
   "cell_type": "code",
   "execution_count": null,
   "metadata": {},
   "outputs": [],
   "source": []
  }
 ],
 "metadata": {
  "kernelspec": {
   "display_name": "Python 3",
   "language": "python",
   "name": "python3"
  },
  "language_info": {
   "codemirror_mode": {
    "name": "ipython",
    "version": 3
   },
   "file_extension": ".py",
   "mimetype": "text/x-python",
   "name": "python",
   "nbconvert_exporter": "python",
   "pygments_lexer": "ipython3",
   "version": "3.8.5"
  }
 },
 "nbformat": 4,
 "nbformat_minor": 2
}

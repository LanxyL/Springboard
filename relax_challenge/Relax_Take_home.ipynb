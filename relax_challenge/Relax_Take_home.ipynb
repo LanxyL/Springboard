{
 "cells": [
  {
   "cell_type": "code",
   "execution_count": 1,
   "metadata": {},
   "outputs": [],
   "source": [
    "#Loads\n",
    "import numpy as np\n",
    "import pandas as pd\n",
    "import matplotlib.pyplot as plt\n",
    "import seaborn as sns"
   ]
  },
  {
   "cell_type": "code",
   "execution_count": 2,
   "metadata": {},
   "outputs": [],
   "source": [
    "users = pd.read_csv('takehome_users.csv', encoding = \"ISO-8859-1\")"
   ]
  },
  {
   "cell_type": "code",
   "execution_count": 3,
   "metadata": {},
   "outputs": [
    {
     "data": {
      "text/html": [
       "<div>\n",
       "<style scoped>\n",
       "    .dataframe tbody tr th:only-of-type {\n",
       "        vertical-align: middle;\n",
       "    }\n",
       "\n",
       "    .dataframe tbody tr th {\n",
       "        vertical-align: top;\n",
       "    }\n",
       "\n",
       "    .dataframe thead th {\n",
       "        text-align: right;\n",
       "    }\n",
       "</style>\n",
       "<table border=\"1\" class=\"dataframe\">\n",
       "  <thead>\n",
       "    <tr style=\"text-align: right;\">\n",
       "      <th></th>\n",
       "      <th>object_id</th>\n",
       "      <th>creation_time</th>\n",
       "      <th>name</th>\n",
       "      <th>email</th>\n",
       "      <th>creation_source</th>\n",
       "      <th>last_session_creation_time</th>\n",
       "      <th>opted_in_to_mailing_list</th>\n",
       "      <th>enabled_for_marketing_drip</th>\n",
       "      <th>org_id</th>\n",
       "      <th>invited_by_user_id</th>\n",
       "    </tr>\n",
       "  </thead>\n",
       "  <tbody>\n",
       "    <tr>\n",
       "      <th>0</th>\n",
       "      <td>1</td>\n",
       "      <td>2014-04-22 03:53:30</td>\n",
       "      <td>Clausen August</td>\n",
       "      <td>AugustCClausen@yahoo.com</td>\n",
       "      <td>GUEST_INVITE</td>\n",
       "      <td>1.398139e+09</td>\n",
       "      <td>1</td>\n",
       "      <td>0</td>\n",
       "      <td>11</td>\n",
       "      <td>10803.0</td>\n",
       "    </tr>\n",
       "    <tr>\n",
       "      <th>1</th>\n",
       "      <td>2</td>\n",
       "      <td>2013-11-15 03:45:04</td>\n",
       "      <td>Poole Matthew</td>\n",
       "      <td>MatthewPoole@gustr.com</td>\n",
       "      <td>ORG_INVITE</td>\n",
       "      <td>1.396238e+09</td>\n",
       "      <td>0</td>\n",
       "      <td>0</td>\n",
       "      <td>1</td>\n",
       "      <td>316.0</td>\n",
       "    </tr>\n",
       "    <tr>\n",
       "      <th>2</th>\n",
       "      <td>3</td>\n",
       "      <td>2013-03-19 23:14:52</td>\n",
       "      <td>Bottrill Mitchell</td>\n",
       "      <td>MitchellBottrill@gustr.com</td>\n",
       "      <td>ORG_INVITE</td>\n",
       "      <td>1.363735e+09</td>\n",
       "      <td>0</td>\n",
       "      <td>0</td>\n",
       "      <td>94</td>\n",
       "      <td>1525.0</td>\n",
       "    </tr>\n",
       "    <tr>\n",
       "      <th>3</th>\n",
       "      <td>4</td>\n",
       "      <td>2013-05-21 08:09:28</td>\n",
       "      <td>Clausen Nicklas</td>\n",
       "      <td>NicklasSClausen@yahoo.com</td>\n",
       "      <td>GUEST_INVITE</td>\n",
       "      <td>1.369210e+09</td>\n",
       "      <td>0</td>\n",
       "      <td>0</td>\n",
       "      <td>1</td>\n",
       "      <td>5151.0</td>\n",
       "    </tr>\n",
       "    <tr>\n",
       "      <th>4</th>\n",
       "      <td>5</td>\n",
       "      <td>2013-01-17 10:14:20</td>\n",
       "      <td>Raw Grace</td>\n",
       "      <td>GraceRaw@yahoo.com</td>\n",
       "      <td>GUEST_INVITE</td>\n",
       "      <td>1.358850e+09</td>\n",
       "      <td>0</td>\n",
       "      <td>0</td>\n",
       "      <td>193</td>\n",
       "      <td>5240.0</td>\n",
       "    </tr>\n",
       "  </tbody>\n",
       "</table>\n",
       "</div>"
      ],
      "text/plain": [
       "   object_id        creation_time               name  \\\n",
       "0          1  2014-04-22 03:53:30     Clausen August   \n",
       "1          2  2013-11-15 03:45:04      Poole Matthew   \n",
       "2          3  2013-03-19 23:14:52  Bottrill Mitchell   \n",
       "3          4  2013-05-21 08:09:28    Clausen Nicklas   \n",
       "4          5  2013-01-17 10:14:20          Raw Grace   \n",
       "\n",
       "                        email creation_source  last_session_creation_time  \\\n",
       "0    AugustCClausen@yahoo.com    GUEST_INVITE                1.398139e+09   \n",
       "1      MatthewPoole@gustr.com      ORG_INVITE                1.396238e+09   \n",
       "2  MitchellBottrill@gustr.com      ORG_INVITE                1.363735e+09   \n",
       "3   NicklasSClausen@yahoo.com    GUEST_INVITE                1.369210e+09   \n",
       "4          GraceRaw@yahoo.com    GUEST_INVITE                1.358850e+09   \n",
       "\n",
       "   opted_in_to_mailing_list  enabled_for_marketing_drip  org_id  \\\n",
       "0                         1                           0      11   \n",
       "1                         0                           0       1   \n",
       "2                         0                           0      94   \n",
       "3                         0                           0       1   \n",
       "4                         0                           0     193   \n",
       "\n",
       "   invited_by_user_id  \n",
       "0             10803.0  \n",
       "1               316.0  \n",
       "2              1525.0  \n",
       "3              5151.0  \n",
       "4              5240.0  "
      ]
     },
     "execution_count": 3,
     "metadata": {},
     "output_type": "execute_result"
    }
   ],
   "source": [
    "users.head()"
   ]
  },
  {
   "cell_type": "code",
   "execution_count": 4,
   "metadata": {},
   "outputs": [],
   "source": [
    "engagement = pd.read_csv('takehome_user_engagement.csv', encoding = \"ISO-8859-1\")"
   ]
  },
  {
   "cell_type": "code",
   "execution_count": 5,
   "metadata": {},
   "outputs": [
    {
     "data": {
      "text/html": [
       "<div>\n",
       "<style scoped>\n",
       "    .dataframe tbody tr th:only-of-type {\n",
       "        vertical-align: middle;\n",
       "    }\n",
       "\n",
       "    .dataframe tbody tr th {\n",
       "        vertical-align: top;\n",
       "    }\n",
       "\n",
       "    .dataframe thead th {\n",
       "        text-align: right;\n",
       "    }\n",
       "</style>\n",
       "<table border=\"1\" class=\"dataframe\">\n",
       "  <thead>\n",
       "    <tr style=\"text-align: right;\">\n",
       "      <th></th>\n",
       "      <th>time_stamp</th>\n",
       "      <th>user_id</th>\n",
       "      <th>visited</th>\n",
       "    </tr>\n",
       "  </thead>\n",
       "  <tbody>\n",
       "    <tr>\n",
       "      <th>0</th>\n",
       "      <td>2014-04-22 03:53:30</td>\n",
       "      <td>1</td>\n",
       "      <td>1</td>\n",
       "    </tr>\n",
       "    <tr>\n",
       "      <th>1</th>\n",
       "      <td>2013-11-15 03:45:04</td>\n",
       "      <td>2</td>\n",
       "      <td>1</td>\n",
       "    </tr>\n",
       "    <tr>\n",
       "      <th>2</th>\n",
       "      <td>2013-11-29 03:45:04</td>\n",
       "      <td>2</td>\n",
       "      <td>1</td>\n",
       "    </tr>\n",
       "    <tr>\n",
       "      <th>3</th>\n",
       "      <td>2013-12-09 03:45:04</td>\n",
       "      <td>2</td>\n",
       "      <td>1</td>\n",
       "    </tr>\n",
       "    <tr>\n",
       "      <th>4</th>\n",
       "      <td>2013-12-25 03:45:04</td>\n",
       "      <td>2</td>\n",
       "      <td>1</td>\n",
       "    </tr>\n",
       "  </tbody>\n",
       "</table>\n",
       "</div>"
      ],
      "text/plain": [
       "            time_stamp  user_id  visited\n",
       "0  2014-04-22 03:53:30        1        1\n",
       "1  2013-11-15 03:45:04        2        1\n",
       "2  2013-11-29 03:45:04        2        1\n",
       "3  2013-12-09 03:45:04        2        1\n",
       "4  2013-12-25 03:45:04        2        1"
      ]
     },
     "execution_count": 5,
     "metadata": {},
     "output_type": "execute_result"
    }
   ],
   "source": [
    "engagement.head()"
   ]
  },
  {
   "cell_type": "code",
   "execution_count": 6,
   "metadata": {},
   "outputs": [
    {
     "name": "stdout",
     "output_type": "stream",
     "text": [
      "<class 'pandas.core.frame.DataFrame'>\n",
      "RangeIndex: 207917 entries, 0 to 207916\n",
      "Data columns (total 3 columns):\n",
      " #   Column      Non-Null Count   Dtype \n",
      "---  ------      --------------   ----- \n",
      " 0   time_stamp  207917 non-null  object\n",
      " 1   user_id     207917 non-null  int64 \n",
      " 2   visited     207917 non-null  int64 \n",
      "dtypes: int64(2), object(1)\n",
      "memory usage: 4.8+ MB\n"
     ]
    }
   ],
   "source": [
    "engagement.info()"
   ]
  },
  {
   "cell_type": "code",
   "execution_count": 7,
   "metadata": {},
   "outputs": [],
   "source": [
    "engagement['time_stamp'] = pd.to_datetime(engagement['time_stamp'])"
   ]
  },
  {
   "cell_type": "code",
   "execution_count": 8,
   "metadata": {},
   "outputs": [
    {
     "name": "stdout",
     "output_type": "stream",
     "text": [
      "<class 'pandas.core.frame.DataFrame'>\n",
      "RangeIndex: 207917 entries, 0 to 207916\n",
      "Data columns (total 3 columns):\n",
      " #   Column      Non-Null Count   Dtype         \n",
      "---  ------      --------------   -----         \n",
      " 0   time_stamp  207917 non-null  datetime64[ns]\n",
      " 1   user_id     207917 non-null  int64         \n",
      " 2   visited     207917 non-null  int64         \n",
      "dtypes: datetime64[ns](1), int64(2)\n",
      "memory usage: 4.8 MB\n"
     ]
    }
   ],
   "source": [
    "engagement.info()"
   ]
  },
  {
   "cell_type": "code",
   "execution_count": 9,
   "metadata": {},
   "outputs": [],
   "source": [
    "engagement = engagement.sort_values(['user_id', 'time_stamp']).drop_duplicates()"
   ]
  },
  {
   "cell_type": "code",
   "execution_count": 10,
   "metadata": {},
   "outputs": [
    {
     "data": {
      "text/html": [
       "<div>\n",
       "<style scoped>\n",
       "    .dataframe tbody tr th:only-of-type {\n",
       "        vertical-align: middle;\n",
       "    }\n",
       "\n",
       "    .dataframe tbody tr th {\n",
       "        vertical-align: top;\n",
       "    }\n",
       "\n",
       "    .dataframe thead th {\n",
       "        text-align: right;\n",
       "    }\n",
       "</style>\n",
       "<table border=\"1\" class=\"dataframe\">\n",
       "  <thead>\n",
       "    <tr style=\"text-align: right;\">\n",
       "      <th></th>\n",
       "      <th>time_stamp</th>\n",
       "      <th>user_id</th>\n",
       "      <th>visited</th>\n",
       "    </tr>\n",
       "  </thead>\n",
       "  <tbody>\n",
       "    <tr>\n",
       "      <th>0</th>\n",
       "      <td>2014-04-22 03:53:30</td>\n",
       "      <td>1</td>\n",
       "      <td>1</td>\n",
       "    </tr>\n",
       "    <tr>\n",
       "      <th>1</th>\n",
       "      <td>2013-11-15 03:45:04</td>\n",
       "      <td>2</td>\n",
       "      <td>1</td>\n",
       "    </tr>\n",
       "    <tr>\n",
       "      <th>2</th>\n",
       "      <td>2013-11-29 03:45:04</td>\n",
       "      <td>2</td>\n",
       "      <td>1</td>\n",
       "    </tr>\n",
       "    <tr>\n",
       "      <th>3</th>\n",
       "      <td>2013-12-09 03:45:04</td>\n",
       "      <td>2</td>\n",
       "      <td>1</td>\n",
       "    </tr>\n",
       "    <tr>\n",
       "      <th>4</th>\n",
       "      <td>2013-12-25 03:45:04</td>\n",
       "      <td>2</td>\n",
       "      <td>1</td>\n",
       "    </tr>\n",
       "    <tr>\n",
       "      <th>...</th>\n",
       "      <td>...</td>\n",
       "      <td>...</td>\n",
       "      <td>...</td>\n",
       "    </tr>\n",
       "    <tr>\n",
       "      <th>207912</th>\n",
       "      <td>2013-09-06 06:14:15</td>\n",
       "      <td>11996</td>\n",
       "      <td>1</td>\n",
       "    </tr>\n",
       "    <tr>\n",
       "      <th>207913</th>\n",
       "      <td>2013-01-15 18:28:37</td>\n",
       "      <td>11997</td>\n",
       "      <td>1</td>\n",
       "    </tr>\n",
       "    <tr>\n",
       "      <th>207914</th>\n",
       "      <td>2014-04-27 12:45:16</td>\n",
       "      <td>11998</td>\n",
       "      <td>1</td>\n",
       "    </tr>\n",
       "    <tr>\n",
       "      <th>207915</th>\n",
       "      <td>2012-06-02 11:55:59</td>\n",
       "      <td>11999</td>\n",
       "      <td>1</td>\n",
       "    </tr>\n",
       "    <tr>\n",
       "      <th>207916</th>\n",
       "      <td>2014-01-26 08:57:12</td>\n",
       "      <td>12000</td>\n",
       "      <td>1</td>\n",
       "    </tr>\n",
       "  </tbody>\n",
       "</table>\n",
       "<p>207917 rows × 3 columns</p>\n",
       "</div>"
      ],
      "text/plain": [
       "                time_stamp  user_id  visited\n",
       "0      2014-04-22 03:53:30        1        1\n",
       "1      2013-11-15 03:45:04        2        1\n",
       "2      2013-11-29 03:45:04        2        1\n",
       "3      2013-12-09 03:45:04        2        1\n",
       "4      2013-12-25 03:45:04        2        1\n",
       "...                    ...      ...      ...\n",
       "207912 2013-09-06 06:14:15    11996        1\n",
       "207913 2013-01-15 18:28:37    11997        1\n",
       "207914 2014-04-27 12:45:16    11998        1\n",
       "207915 2012-06-02 11:55:59    11999        1\n",
       "207916 2014-01-26 08:57:12    12000        1\n",
       "\n",
       "[207917 rows x 3 columns]"
      ]
     },
     "execution_count": 10,
     "metadata": {},
     "output_type": "execute_result"
    }
   ],
   "source": [
    "engagement"
   ]
  },
  {
   "cell_type": "code",
   "execution_count": 11,
   "metadata": {},
   "outputs": [],
   "source": [
    "temp=[['2013-01-01 10:05:23','1'],['2013-01-03 16:35:23','1'], ['2013-01-06 11:06:35','1'], ['2013-01-10 12:05:43','1'], ['2013-01-11 13:32:12','2'], ['2013-01-04 16:26:34','3'], ['2013-01-05 14:02:51','3'], ['2013-01-11 18:35:53','3'], ['2013-01-04 12:26:34','4'], ['2013-01-05 13:31:11','4'], ['2013-01-12 17:35:52','4']]"
   ]
  },
  {
   "cell_type": "code",
   "execution_count": 12,
   "metadata": {},
   "outputs": [],
   "source": [
    "temp = pd.DataFrame(temp)"
   ]
  },
  {
   "cell_type": "code",
   "execution_count": 13,
   "metadata": {},
   "outputs": [],
   "source": [
    "temp = temp.rename(columns={0: \"time_stamp\", 1: \"user_id\"})"
   ]
  },
  {
   "cell_type": "code",
   "execution_count": 14,
   "metadata": {},
   "outputs": [
    {
     "name": "stdout",
     "output_type": "stream",
     "text": [
      "user_id    \n",
      "1        0     NaN\n",
      "         1     NaN\n",
      "         2     5.0\n",
      "         3     7.0\n",
      "2        4     NaN\n",
      "3        5     NaN\n",
      "         6     NaN\n",
      "         7     7.0\n",
      "4        8     NaN\n",
      "         9     NaN\n",
      "         10    8.0\n",
      "Name: time_stamp, dtype: float64\n"
     ]
    }
   ],
   "source": [
    "temp['time_stamp'] = pd.to_datetime(temp['time_stamp'])\n",
    "temp['time_stamp'] = temp['time_stamp'].dt.floor('d').astype(np.int64)\n",
    "a = temp.groupby('user_id')['time_stamp'].rolling(window=3)\n",
    "b = pd.to_timedelta((a.max()- a.min())).dt.days\n",
    "print (b)"
   ]
  },
  {
   "cell_type": "code",
   "execution_count": 15,
   "metadata": {},
   "outputs": [],
   "source": [
    "engagement['time_stamp'] = engagement['time_stamp'].dt.floor('d').astype(np.int64)"
   ]
  },
  {
   "cell_type": "code",
   "execution_count": 16,
   "metadata": {},
   "outputs": [],
   "source": [
    "a = engagement.groupby('user_id')['time_stamp'].rolling(window=3)"
   ]
  },
  {
   "cell_type": "code",
   "execution_count": 17,
   "metadata": {},
   "outputs": [
    {
     "name": "stdout",
     "output_type": "stream",
     "text": [
      "user_id        \n",
      "1        0          NaN\n",
      "2        1          NaN\n",
      "         2          NaN\n",
      "         3         24.0\n",
      "         4         26.0\n",
      "                   ... \n",
      "11996    207912     NaN\n",
      "11997    207913     NaN\n",
      "11998    207914     NaN\n",
      "11999    207915     NaN\n",
      "12000    207916     NaN\n",
      "Name: time_stamp, Length: 207917, dtype: float64\n"
     ]
    }
   ],
   "source": [
    "b = pd.to_timedelta((a.max()- a.min())).dt.days\n",
    "print (b)"
   ]
  },
  {
   "cell_type": "code",
   "execution_count": 18,
   "metadata": {},
   "outputs": [],
   "source": [
    "c = set(b[b <= 7].index.get_level_values('user_id').tolist())\n",
    "users['adopted'] = users['object_id'].apply(lambda x : 1 if x in c else 0)"
   ]
  },
  {
   "cell_type": "code",
   "execution_count": 19,
   "metadata": {},
   "outputs": [
    {
     "data": {
      "text/html": [
       "<div>\n",
       "<style scoped>\n",
       "    .dataframe tbody tr th:only-of-type {\n",
       "        vertical-align: middle;\n",
       "    }\n",
       "\n",
       "    .dataframe tbody tr th {\n",
       "        vertical-align: top;\n",
       "    }\n",
       "\n",
       "    .dataframe thead th {\n",
       "        text-align: right;\n",
       "    }\n",
       "</style>\n",
       "<table border=\"1\" class=\"dataframe\">\n",
       "  <thead>\n",
       "    <tr style=\"text-align: right;\">\n",
       "      <th></th>\n",
       "      <th>object_id</th>\n",
       "      <th>creation_time</th>\n",
       "      <th>name</th>\n",
       "      <th>email</th>\n",
       "      <th>creation_source</th>\n",
       "      <th>last_session_creation_time</th>\n",
       "      <th>opted_in_to_mailing_list</th>\n",
       "      <th>enabled_for_marketing_drip</th>\n",
       "      <th>org_id</th>\n",
       "      <th>invited_by_user_id</th>\n",
       "      <th>adopted</th>\n",
       "    </tr>\n",
       "  </thead>\n",
       "  <tbody>\n",
       "    <tr>\n",
       "      <th>0</th>\n",
       "      <td>1</td>\n",
       "      <td>2014-04-22 03:53:30</td>\n",
       "      <td>Clausen August</td>\n",
       "      <td>AugustCClausen@yahoo.com</td>\n",
       "      <td>GUEST_INVITE</td>\n",
       "      <td>1.398139e+09</td>\n",
       "      <td>1</td>\n",
       "      <td>0</td>\n",
       "      <td>11</td>\n",
       "      <td>10803.0</td>\n",
       "      <td>0</td>\n",
       "    </tr>\n",
       "    <tr>\n",
       "      <th>1</th>\n",
       "      <td>2</td>\n",
       "      <td>2013-11-15 03:45:04</td>\n",
       "      <td>Poole Matthew</td>\n",
       "      <td>MatthewPoole@gustr.com</td>\n",
       "      <td>ORG_INVITE</td>\n",
       "      <td>1.396238e+09</td>\n",
       "      <td>0</td>\n",
       "      <td>0</td>\n",
       "      <td>1</td>\n",
       "      <td>316.0</td>\n",
       "      <td>1</td>\n",
       "    </tr>\n",
       "    <tr>\n",
       "      <th>2</th>\n",
       "      <td>3</td>\n",
       "      <td>2013-03-19 23:14:52</td>\n",
       "      <td>Bottrill Mitchell</td>\n",
       "      <td>MitchellBottrill@gustr.com</td>\n",
       "      <td>ORG_INVITE</td>\n",
       "      <td>1.363735e+09</td>\n",
       "      <td>0</td>\n",
       "      <td>0</td>\n",
       "      <td>94</td>\n",
       "      <td>1525.0</td>\n",
       "      <td>0</td>\n",
       "    </tr>\n",
       "    <tr>\n",
       "      <th>3</th>\n",
       "      <td>4</td>\n",
       "      <td>2013-05-21 08:09:28</td>\n",
       "      <td>Clausen Nicklas</td>\n",
       "      <td>NicklasSClausen@yahoo.com</td>\n",
       "      <td>GUEST_INVITE</td>\n",
       "      <td>1.369210e+09</td>\n",
       "      <td>0</td>\n",
       "      <td>0</td>\n",
       "      <td>1</td>\n",
       "      <td>5151.0</td>\n",
       "      <td>0</td>\n",
       "    </tr>\n",
       "    <tr>\n",
       "      <th>4</th>\n",
       "      <td>5</td>\n",
       "      <td>2013-01-17 10:14:20</td>\n",
       "      <td>Raw Grace</td>\n",
       "      <td>GraceRaw@yahoo.com</td>\n",
       "      <td>GUEST_INVITE</td>\n",
       "      <td>1.358850e+09</td>\n",
       "      <td>0</td>\n",
       "      <td>0</td>\n",
       "      <td>193</td>\n",
       "      <td>5240.0</td>\n",
       "      <td>0</td>\n",
       "    </tr>\n",
       "    <tr>\n",
       "      <th>...</th>\n",
       "      <td>...</td>\n",
       "      <td>...</td>\n",
       "      <td>...</td>\n",
       "      <td>...</td>\n",
       "      <td>...</td>\n",
       "      <td>...</td>\n",
       "      <td>...</td>\n",
       "      <td>...</td>\n",
       "      <td>...</td>\n",
       "      <td>...</td>\n",
       "      <td>...</td>\n",
       "    </tr>\n",
       "    <tr>\n",
       "      <th>11995</th>\n",
       "      <td>11996</td>\n",
       "      <td>2013-09-06 06:14:15</td>\n",
       "      <td>Meier Sophia</td>\n",
       "      <td>SophiaMeier@gustr.com</td>\n",
       "      <td>ORG_INVITE</td>\n",
       "      <td>1.378448e+09</td>\n",
       "      <td>0</td>\n",
       "      <td>0</td>\n",
       "      <td>89</td>\n",
       "      <td>8263.0</td>\n",
       "      <td>0</td>\n",
       "    </tr>\n",
       "    <tr>\n",
       "      <th>11996</th>\n",
       "      <td>11997</td>\n",
       "      <td>2013-01-10 18:28:37</td>\n",
       "      <td>Fisher Amelie</td>\n",
       "      <td>AmelieFisher@gmail.com</td>\n",
       "      <td>SIGNUP_GOOGLE_AUTH</td>\n",
       "      <td>1.358275e+09</td>\n",
       "      <td>0</td>\n",
       "      <td>0</td>\n",
       "      <td>200</td>\n",
       "      <td>NaN</td>\n",
       "      <td>0</td>\n",
       "    </tr>\n",
       "    <tr>\n",
       "      <th>11997</th>\n",
       "      <td>11998</td>\n",
       "      <td>2014-04-27 12:45:16</td>\n",
       "      <td>Haynes Jake</td>\n",
       "      <td>JakeHaynes@cuvox.de</td>\n",
       "      <td>GUEST_INVITE</td>\n",
       "      <td>1.398603e+09</td>\n",
       "      <td>1</td>\n",
       "      <td>1</td>\n",
       "      <td>83</td>\n",
       "      <td>8074.0</td>\n",
       "      <td>0</td>\n",
       "    </tr>\n",
       "    <tr>\n",
       "      <th>11998</th>\n",
       "      <td>11999</td>\n",
       "      <td>2012-05-31 11:55:59</td>\n",
       "      <td>Faber Annett</td>\n",
       "      <td>mhaerzxp@iuxiw.com</td>\n",
       "      <td>PERSONAL_PROJECTS</td>\n",
       "      <td>1.338638e+09</td>\n",
       "      <td>0</td>\n",
       "      <td>0</td>\n",
       "      <td>6</td>\n",
       "      <td>NaN</td>\n",
       "      <td>0</td>\n",
       "    </tr>\n",
       "    <tr>\n",
       "      <th>11999</th>\n",
       "      <td>12000</td>\n",
       "      <td>2014-01-26 08:57:12</td>\n",
       "      <td>Lima Thaís</td>\n",
       "      <td>ThaisMeloLima@hotmail.com</td>\n",
       "      <td>SIGNUP</td>\n",
       "      <td>1.390727e+09</td>\n",
       "      <td>0</td>\n",
       "      <td>1</td>\n",
       "      <td>0</td>\n",
       "      <td>NaN</td>\n",
       "      <td>0</td>\n",
       "    </tr>\n",
       "  </tbody>\n",
       "</table>\n",
       "<p>12000 rows × 11 columns</p>\n",
       "</div>"
      ],
      "text/plain": [
       "       object_id        creation_time               name  \\\n",
       "0              1  2014-04-22 03:53:30     Clausen August   \n",
       "1              2  2013-11-15 03:45:04      Poole Matthew   \n",
       "2              3  2013-03-19 23:14:52  Bottrill Mitchell   \n",
       "3              4  2013-05-21 08:09:28    Clausen Nicklas   \n",
       "4              5  2013-01-17 10:14:20          Raw Grace   \n",
       "...          ...                  ...                ...   \n",
       "11995      11996  2013-09-06 06:14:15       Meier Sophia   \n",
       "11996      11997  2013-01-10 18:28:37      Fisher Amelie   \n",
       "11997      11998  2014-04-27 12:45:16        Haynes Jake   \n",
       "11998      11999  2012-05-31 11:55:59       Faber Annett   \n",
       "11999      12000  2014-01-26 08:57:12         Lima Thaís   \n",
       "\n",
       "                            email     creation_source  \\\n",
       "0        AugustCClausen@yahoo.com        GUEST_INVITE   \n",
       "1          MatthewPoole@gustr.com          ORG_INVITE   \n",
       "2      MitchellBottrill@gustr.com          ORG_INVITE   \n",
       "3       NicklasSClausen@yahoo.com        GUEST_INVITE   \n",
       "4              GraceRaw@yahoo.com        GUEST_INVITE   \n",
       "...                           ...                 ...   \n",
       "11995       SophiaMeier@gustr.com          ORG_INVITE   \n",
       "11996      AmelieFisher@gmail.com  SIGNUP_GOOGLE_AUTH   \n",
       "11997         JakeHaynes@cuvox.de        GUEST_INVITE   \n",
       "11998          mhaerzxp@iuxiw.com   PERSONAL_PROJECTS   \n",
       "11999   ThaisMeloLima@hotmail.com              SIGNUP   \n",
       "\n",
       "       last_session_creation_time  opted_in_to_mailing_list  \\\n",
       "0                    1.398139e+09                         1   \n",
       "1                    1.396238e+09                         0   \n",
       "2                    1.363735e+09                         0   \n",
       "3                    1.369210e+09                         0   \n",
       "4                    1.358850e+09                         0   \n",
       "...                           ...                       ...   \n",
       "11995                1.378448e+09                         0   \n",
       "11996                1.358275e+09                         0   \n",
       "11997                1.398603e+09                         1   \n",
       "11998                1.338638e+09                         0   \n",
       "11999                1.390727e+09                         0   \n",
       "\n",
       "       enabled_for_marketing_drip  org_id  invited_by_user_id  adopted  \n",
       "0                               0      11             10803.0        0  \n",
       "1                               0       1               316.0        1  \n",
       "2                               0      94              1525.0        0  \n",
       "3                               0       1              5151.0        0  \n",
       "4                               0     193              5240.0        0  \n",
       "...                           ...     ...                 ...      ...  \n",
       "11995                           0      89              8263.0        0  \n",
       "11996                           0     200                 NaN        0  \n",
       "11997                           1      83              8074.0        0  \n",
       "11998                           0       6                 NaN        0  \n",
       "11999                           1       0                 NaN        0  \n",
       "\n",
       "[12000 rows x 11 columns]"
      ]
     },
     "execution_count": 19,
     "metadata": {},
     "output_type": "execute_result"
    }
   ],
   "source": [
    "users"
   ]
  },
  {
   "cell_type": "markdown",
   "metadata": {},
   "source": [
    "## Exploratory Data Analysis"
   ]
  },
  {
   "cell_type": "code",
   "execution_count": 20,
   "metadata": {},
   "outputs": [
    {
     "data": {
      "text/plain": [
       "<AxesSubplot:xlabel='adopted', ylabel='count'>"
      ]
     },
     "execution_count": 20,
     "metadata": {},
     "output_type": "execute_result"
    },
    {
     "data": {
      "image/png": "[encoded data removed]",
      "text/plain": [
       "<Figure size 432x288 with 1 Axes>"
      ]
     },
     "metadata": {
      "needs_background": "light"
     },
     "output_type": "display_data"
    }
   ],
   "source": [
    "sns.countplot(x='adopted', data=users, hue='creation_source')"
   ]
  },
  {
   "cell_type": "markdown",
   "metadata": {},
   "source": [
    "Most of the users join the platform through invitations from an organization as a full member. The percentage for this creation source is both highest among people who are adopted and not adopted. "
   ]
  },
  {
   "cell_type": "code",
   "execution_count": 21,
   "metadata": {},
   "outputs": [],
   "source": [
    "guest_adoptedrate = ((users['adopted']==1)&(users['creation_source']=='GUEST_INVITE')).sum()/(users['creation_source']=='GUEST_INVITE').sum()\n",
    "org_adoptedrate = ((users['adopted']==1)&(users['creation_source']=='ORG_INVITE')).sum()/(users['creation_source']=='ORG_INVITE').sum()\n",
    "signup_adoptedrate = ((users['adopted']==1)&(users['creation_source']=='SIGNUP')).sum()/(users['creation_source']=='SIGNUP').sum()\n",
    "personal_adoptedrate = ((users['adopted']==1)&(users['creation_source']=='PERSONAL_PROJECTS')).sum()/(users['creation_source']=='PERSONAL_PROJECTS').sum()\n",
    "google_adoptedrate = ((users['adopted']==1)&(users['creation_source']=='SIGNUP_GOOGLE_AUTH')).sum()/(users['creation_source']=='SIGNUP_GOOGLE_AUTH').sum()"
   ]
  },
  {
   "cell_type": "code",
   "execution_count": 22,
   "metadata": {},
   "outputs": [
    {
     "name": "stdout",
     "output_type": "stream",
     "text": [
      "The adoption rate for people who are invited to an organization as a guest:  0.17059639389736478\n",
      "The adoption rate for people who are invited to an organization as a full member:  0.13493182886694877\n",
      "The adoption rate for people who signed up via the website:  0.14470531863919503\n",
      "The adoption rate for people who signed up using Google Authentication:  0.17256317689530687\n",
      "The adoption rate for people who are invited to join a personal workspace:  0.08147797252486973\n"
     ]
    }
   ],
   "source": [
    "print('The adoption rate for people who are invited to an organization as a guest: ', guest_adoptedrate)\n",
    "print('The adoption rate for people who are invited to an organization as a full member: ', org_adoptedrate)\n",
    "print('The adoption rate for people who signed up via the website: ', signup_adoptedrate)\n",
    "print('The adoption rate for people who signed up using Google Authentication: ', google_adoptedrate)\n",
    "print('The adoption rate for people who are invited to join a personal workspace: ', personal_adoptedrate)"
   ]
  },
  {
   "cell_type": "markdown",
   "metadata": {},
   "source": [
    "Although most of people join the platform are invited to an organization, people who signed up using Google Authentication have the highest adoption rate. "
   ]
  },
  {
   "cell_type": "code",
   "execution_count": 23,
   "metadata": {},
   "outputs": [],
   "source": [
    "users['last_session_creation_time'] = pd.to_datetime(users['last_session_creation_time'], unit='s')"
   ]
  },
  {
   "cell_type": "code",
   "execution_count": 24,
   "metadata": {},
   "outputs": [],
   "source": [
    "users['creation_time'] = pd.to_datetime(users['creation_time'])"
   ]
  },
  {
   "cell_type": "code",
   "execution_count": 25,
   "metadata": {},
   "outputs": [],
   "source": [
    "users['days_btw_logins'] = (users['last_session_creation_time']-users['creation_time']).dt.days"
   ]
  },
  {
   "cell_type": "code",
   "execution_count": 26,
   "metadata": {},
   "outputs": [
    {
     "data": {
      "text/plain": [
       "<AxesSubplot:xlabel='days_btw_logins', ylabel='Count'>"
      ]
     },
     "execution_count": 26,
     "metadata": {},
     "output_type": "execute_result"
    },
    {
     "data": {
      "image/png": "[encoded data removed]",
      "text/plain": [
       "<Figure size 432x288 with 1 Axes>"
      ]
     },
     "metadata": {
      "needs_background": "light"
     },
     "output_type": "display_data"
    }
   ],
   "source": [
    "sns.histplot(data=users['days_btw_logins'], bins=10, log_scale=[False, True])"
   ]
  },
  {
   "cell_type": "markdown",
   "metadata": {},
   "source": [
    "We can see the plot of days between last login and creation day is highly skewed even after applying the log-scale to the count. Many people don't login much or even never login after the creation day. That matches the adopted situation as well. "
   ]
  },
  {
   "cell_type": "code",
   "execution_count": 27,
   "metadata": {},
   "outputs": [
    {
     "data": {
      "text/plain": [
       "0.5863302397525135"
      ]
     },
     "execution_count": 27,
     "metadata": {},
     "output_type": "execute_result"
    }
   ],
   "source": [
    "((users['adopted']==0)&(users['days_btw_logins']<5)).sum()/(users['adopted']==0).sum()"
   ]
  },
  {
   "cell_type": "markdown",
   "metadata": {},
   "source": [
    "As shown above, if one user do not login 5 days after they create the account, they have more then 58% percent chance to be not adopted."
   ]
  },
  {
   "cell_type": "code",
   "execution_count": 28,
   "metadata": {},
   "outputs": [
    {
     "data": {
      "text/plain": [
       "<AxesSubplot:xlabel='opted_in_to_mailing_list', ylabel='count'>"
      ]
     },
     "execution_count": 28,
     "metadata": {},
     "output_type": "execute_result"
    },
    {
     "data": {
      "image/png": "[encoded data removed]",
      "text/plain": [
       "<Figure size 432x288 with 1 Axes>"
      ]
     },
     "metadata": {
      "needs_background": "light"
     },
     "output_type": "display_data"
    }
   ],
   "source": [
    "sns.countplot(x='opted_in_to_mailing_list', data=users, hue='adopted')"
   ]
  },
  {
   "cell_type": "code",
   "execution_count": 29,
   "metadata": {},
   "outputs": [
    {
     "name": "stdout",
     "output_type": "stream",
     "text": [
      "There are  14.33 percent users who opted in to mailing list are adopted.\n",
      "There are  13.62 percent users who opted out to mailing list are adopted.\n"
     ]
    }
   ],
   "source": [
    "mail_adopt = ((users['adopted']==1)&(users['opted_in_to_mailing_list']==1)).sum()/(users['opted_in_to_mailing_list']==1).sum()\n",
    "print('There are ', '{:.4}'.format(mail_adopt*100), 'percent users who opted in to mailing list are adopted.')\n",
    "mail_adopt = ((users['adopted']==1)&(users['opted_in_to_mailing_list']==0)).sum()/(users['opted_in_to_mailing_list']==0).sum()\n",
    "print('There are ', '{:.4}'.format(mail_adopt*100), 'percent users who opted out to mailing list are adopted.')"
   ]
  },
  {
   "cell_type": "markdown",
   "metadata": {},
   "source": [
    "So the adoption rates based on mailing list condition do not vary that much. The mailing list may not help keep users."
   ]
  },
  {
   "cell_type": "code",
   "execution_count": 30,
   "metadata": {},
   "outputs": [
    {
     "data": {
      "text/plain": [
       "<AxesSubplot:xlabel='enabled_for_marketing_drip', ylabel='count'>"
      ]
     },
     "execution_count": 30,
     "metadata": {},
     "output_type": "execute_result"
    },
    {
     "data": {
      "image/png": "[encoded data removed]",
      "text/plain": [
       "<Figure size 432x288 with 1 Axes>"
      ]
     },
     "metadata": {
      "needs_background": "light"
     },
     "output_type": "display_data"
    }
   ],
   "source": [
    "sns.countplot(x='enabled_for_marketing_drip', data=users, hue='adopted')"
   ]
  },
  {
   "cell_type": "code",
   "execution_count": 31,
   "metadata": {},
   "outputs": [
    {
     "name": "stdout",
     "output_type": "stream",
     "text": [
      "There are  14.34 percent users who are on the regular marketing email drip are adopted.\n",
      "There are  13.7 percent users who are not on the regular marketing email drip are adopted.\n"
     ]
    }
   ],
   "source": [
    "mail_adopt = ((users['adopted']==1)&(users['enabled_for_marketing_drip']==1)).sum()/(users['enabled_for_marketing_drip']==1).sum()\n",
    "print('There are ', '{:.4}'.format(mail_adopt*100), 'percent users who are on the regular marketing email drip are adopted.')\n",
    "mail_adopt = ((users['adopted']==1)&(users['enabled_for_marketing_drip']==0)).sum()/(users['enabled_for_marketing_drip']==0).sum()\n",
    "print('There are ', '{:.4}'.format(mail_adopt*100), 'percent users who are not on the regular marketing email drip are adopted.')"
   ]
  },
  {
   "cell_type": "markdown",
   "metadata": {},
   "source": [
    "Whether the users are on the regular marketing email drip doesn't seem to affect the adoption rate either."
   ]
  },
  {
   "cell_type": "code",
   "execution_count": 32,
   "metadata": {},
   "outputs": [
    {
     "data": {
      "text/plain": [
       "0     319\n",
       "1     233\n",
       "2     201\n",
       "3     168\n",
       "4     159\n",
       "6     138\n",
       "5     128\n",
       "9     124\n",
       "7     119\n",
       "10    104\n",
       "Name: org_id, dtype: int64"
      ]
     },
     "execution_count": 32,
     "metadata": {},
     "output_type": "execute_result"
    }
   ],
   "source": [
    "users['org_id'].value_counts()[:10]"
   ]
  },
  {
   "cell_type": "code",
   "execution_count": 33,
   "metadata": {},
   "outputs": [
    {
     "data": {
      "text/plain": [
       "378    10\n",
       "304    10\n",
       "395     9\n",
       "315     9\n",
       "355     9\n",
       "396     9\n",
       "400     8\n",
       "397     8\n",
       "386     7\n",
       "416     2\n",
       "Name: org_id, dtype: int64"
      ]
     },
     "execution_count": 33,
     "metadata": {},
     "output_type": "execute_result"
    }
   ],
   "source": [
    "users['org_id'].value_counts()[-10:]"
   ]
  },
  {
   "cell_type": "markdown",
   "metadata": {},
   "source": [
    "Based on the number of useres in the organization, we can see that organizations that have smaller ID number tends to get more users. This might because the numbering system is based on the creation time of the organization. When the organization stays long enough in the platform, it built up more users."
   ]
  },
  {
   "cell_type": "code",
   "execution_count": 34,
   "metadata": {},
   "outputs": [],
   "source": [
    "users['if_invited'] = users['invited_by_user_id'].apply(lambda x : 0 if np.isnan(x) else 1)"
   ]
  },
  {
   "cell_type": "code",
   "execution_count": 35,
   "metadata": {},
   "outputs": [
    {
     "data": {
      "text/plain": [
       "<AxesSubplot:xlabel='if_invited', ylabel='count'>"
      ]
     },
     "execution_count": 35,
     "metadata": {},
     "output_type": "execute_result"
    },
    {
     "data": {
      "image/png": "[encoded data removed]",
      "text/plain": [
       "<Figure size 432x288 with 1 Axes>"
      ]
     },
     "metadata": {
      "needs_background": "light"
     },
     "output_type": "display_data"
    }
   ],
   "source": [
    "sns.countplot(x='if_invited', data=users, hue='adopted')"
   ]
  },
  {
   "cell_type": "code",
   "execution_count": 36,
   "metadata": {},
   "outputs": [
    {
     "name": "stdout",
     "output_type": "stream",
     "text": [
      "There are  14.7 percent users who are invited to the platform are adopted.\n",
      "There are  12.77 percent users who join without an invitation are adopted.\n"
     ]
    }
   ],
   "source": [
    "mail_adopt = ((users['adopted']==1)&(users['if_invited']==1)).sum()/(users['if_invited']==1).sum()\n",
    "print('There are ', '{:.4}'.format(mail_adopt*100), 'percent users who are invited to the platform are adopted.')\n",
    "mail_adopt = ((users['adopted']==1)&(users['if_invited']==0)).sum()/(users['if_invited']==0).sum()\n",
    "print('There are ', '{:.4}'.format(mail_adopt*100), 'percent users who join without an invitation are adopted.')"
   ]
  },
  {
   "cell_type": "markdown",
   "metadata": {},
   "source": [
    "The adoption rate for people who were invited to the platform is slightly higher then people who join on their own. Since the difference is small, we cannot conclude the tendency."
   ]
  },
  {
   "cell_type": "markdown",
   "metadata": {},
   "source": [
    "## Prediction Model"
   ]
  },
  {
   "cell_type": "markdown",
   "metadata": {},
   "source": [
    "For the prediction model, few columns could be removed because they don't contribute to the model. Some columns can be represented better by the new column created during the EDA process."
   ]
  },
  {
   "cell_type": "code",
   "execution_count": 37,
   "metadata": {},
   "outputs": [],
   "source": [
    "users_for_modeling = users.drop_duplicates().drop(['name','creation_time','last_session_creation_time','invited_by_user_id','email','org_id','object_id'], axis=1)"
   ]
  },
  {
   "cell_type": "code",
   "execution_count": 38,
   "metadata": {},
   "outputs": [
    {
     "name": "stdout",
     "output_type": "stream",
     "text": [
      "<class 'pandas.core.frame.DataFrame'>\n",
      "Int64Index: 12000 entries, 0 to 11999\n",
      "Data columns (total 6 columns):\n",
      " #   Column                      Non-Null Count  Dtype  \n",
      "---  ------                      --------------  -----  \n",
      " 0   creation_source             12000 non-null  object \n",
      " 1   opted_in_to_mailing_list    12000 non-null  int64  \n",
      " 2   enabled_for_marketing_drip  12000 non-null  int64  \n",
      " 3   adopted                     12000 non-null  int64  \n",
      " 4   days_btw_logins             8823 non-null   float64\n",
      " 5   if_invited                  12000 non-null  int64  \n",
      "dtypes: float64(1), int64(4), object(1)\n",
      "memory usage: 656.2+ KB\n"
     ]
    }
   ],
   "source": [
    "users_for_modeling.info()"
   ]
  },
  {
   "cell_type": "code",
   "execution_count": 39,
   "metadata": {},
   "outputs": [
    {
     "name": "stdout",
     "output_type": "stream",
     "text": [
      "<class 'pandas.core.frame.DataFrame'>\n",
      "RangeIndex: 12000 entries, 0 to 11999\n",
      "Data columns (total 13 columns):\n",
      " #   Column                      Non-Null Count  Dtype         \n",
      "---  ------                      --------------  -----         \n",
      " 0   object_id                   12000 non-null  int64         \n",
      " 1   creation_time               12000 non-null  datetime64[ns]\n",
      " 2   name                        12000 non-null  object        \n",
      " 3   email                       12000 non-null  object        \n",
      " 4   creation_source             12000 non-null  object        \n",
      " 5   last_session_creation_time  8823 non-null   datetime64[ns]\n",
      " 6   opted_in_to_mailing_list    12000 non-null  int64         \n",
      " 7   enabled_for_marketing_drip  12000 non-null  int64         \n",
      " 8   org_id                      12000 non-null  int64         \n",
      " 9   invited_by_user_id          6417 non-null   float64       \n",
      " 10  adopted                     12000 non-null  int64         \n",
      " 11  days_btw_logins             8823 non-null   float64       \n",
      " 12  if_invited                  12000 non-null  int64         \n",
      "dtypes: datetime64[ns](2), float64(2), int64(6), object(3)\n",
      "memory usage: 1.2+ MB\n"
     ]
    }
   ],
   "source": [
    "users.info()"
   ]
  },
  {
   "cell_type": "markdown",
   "metadata": {},
   "source": [
    "The 'days_btw_logins' column is the only column that has null value in the dataset for modeling. It is because the original dataset has null values in the 'last_session_creation_time' column. There are two ways to handle it. We can assume null values means that user never login after creating the account. On the other hand we can drop these columns because it might just be a system error. For now, I will use the first method to maximize the dataset for modeling purpose."
   ]
  },
  {
   "cell_type": "code",
   "execution_count": 40,
   "metadata": {},
   "outputs": [],
   "source": [
    "users_for_modeling['days_btw_logins'].fillna(0, inplace=True)"
   ]
  },
  {
   "cell_type": "code",
   "execution_count": 41,
   "metadata": {},
   "outputs": [
    {
     "name": "stdout",
     "output_type": "stream",
     "text": [
      "<class 'pandas.core.frame.DataFrame'>\n",
      "Int64Index: 12000 entries, 0 to 11999\n",
      "Data columns (total 6 columns):\n",
      " #   Column                      Non-Null Count  Dtype  \n",
      "---  ------                      --------------  -----  \n",
      " 0   creation_source             12000 non-null  object \n",
      " 1   opted_in_to_mailing_list    12000 non-null  int64  \n",
      " 2   enabled_for_marketing_drip  12000 non-null  int64  \n",
      " 3   adopted                     12000 non-null  int64  \n",
      " 4   days_btw_logins             12000 non-null  float64\n",
      " 5   if_invited                  12000 non-null  int64  \n",
      "dtypes: float64(1), int64(4), object(1)\n",
      "memory usage: 656.2+ KB\n"
     ]
    }
   ],
   "source": [
    "users_for_modeling.info()"
   ]
  },
  {
   "cell_type": "markdown",
   "metadata": {},
   "source": [
    "There are no duplicates in the dataset. Now the data are ready for modeling."
   ]
  },
  {
   "cell_type": "code",
   "execution_count": 42,
   "metadata": {},
   "outputs": [],
   "source": [
    "from sklearn.model_selection import train_test_split\n",
    "from sklearn.linear_model import LogisticRegression\n",
    "from sklearn.metrics import accuracy_score\n",
    "from sklearn.pipeline import Pipeline"
   ]
  },
  {
   "cell_type": "code",
   "execution_count": 43,
   "metadata": {},
   "outputs": [],
   "source": [
    "users_for_modeling = pd.get_dummies(users_for_modeling)"
   ]
  },
  {
   "cell_type": "code",
   "execution_count": 44,
   "metadata": {},
   "outputs": [
    {
     "name": "stdout",
     "output_type": "stream",
     "text": [
      "<class 'pandas.core.frame.DataFrame'>\n",
      "Int64Index: 12000 entries, 0 to 11999\n",
      "Data columns (total 10 columns):\n",
      " #   Column                              Non-Null Count  Dtype  \n",
      "---  ------                              --------------  -----  \n",
      " 0   opted_in_to_mailing_list            12000 non-null  int64  \n",
      " 1   enabled_for_marketing_drip          12000 non-null  int64  \n",
      " 2   adopted                             12000 non-null  int64  \n",
      " 3   days_btw_logins                     12000 non-null  float64\n",
      " 4   if_invited                          12000 non-null  int64  \n",
      " 5   creation_source_GUEST_INVITE        12000 non-null  uint8  \n",
      " 6   creation_source_ORG_INVITE          12000 non-null  uint8  \n",
      " 7   creation_source_PERSONAL_PROJECTS   12000 non-null  uint8  \n",
      " 8   creation_source_SIGNUP              12000 non-null  uint8  \n",
      " 9   creation_source_SIGNUP_GOOGLE_AUTH  12000 non-null  uint8  \n",
      "dtypes: float64(1), int64(4), uint8(5)\n",
      "memory usage: 621.1 KB\n"
     ]
    }
   ],
   "source": [
    "users_for_modeling.info()"
   ]
  },
  {
   "cell_type": "code",
   "execution_count": 45,
   "metadata": {},
   "outputs": [
    {
     "name": "stdout",
     "output_type": "stream",
     "text": [
      "0.9758333333333333\n"
     ]
    },
    {
     "name": "stderr",
     "output_type": "stream",
     "text": [
      "/Users/lanxy/opt/anaconda3/lib/python3.8/site-packages/sklearn/linear_model/_logistic.py:762: ConvergenceWarning: lbfgs failed to converge (status=1):\n",
      "STOP: TOTAL NO. of ITERATIONS REACHED LIMIT.\n",
      "\n",
      "Increase the number of iterations (max_iter) or scale the data as shown in:\n",
      "    https://scikit-learn.org/stable/modules/preprocessing.html\n",
      "Please also refer to the documentation for alternative solver options:\n",
      "    https://scikit-learn.org/stable/modules/linear_model.html#logistic-regression\n",
      "  n_iter_i = _check_optimize_result(\n"
     ]
    }
   ],
   "source": [
    "# Split the data into a training and test set.\n",
    "X_train, X_test, y_train, y_test = train_test_split(users_for_modeling.drop(['adopted'], axis=1), users_for_modeling['adopted'] , \n",
    "                                                            test_size=0.3, random_state=42)\n",
    "clf = LogisticRegression()\n",
    "# Fit the model on the trainng data.\n",
    "clf.fit(X_train, y_train)\n",
    "# Print the accuracy from the testing data.\n",
    "print(accuracy_score(clf.predict(X_test), y_test))"
   ]
  },
  {
   "cell_type": "code",
   "execution_count": 46,
   "metadata": {},
   "outputs": [
    {
     "name": "stdout",
     "output_type": "stream",
     "text": [
      "[ 0.43778767  0.03134152  0.06498288 -0.00796474  0.06969925 -0.07766399\n",
      " -0.33843929 -0.07742037  0.0900315 ]\n"
     ]
    }
   ],
   "source": [
    "# The estimated coefficients will all be around 1:\n",
    "print(clf.coef_[0])"
   ]
  },
  {
   "cell_type": "code",
   "execution_count": 47,
   "metadata": {},
   "outputs": [
    {
     "data": {
      "image/png": "[encoded data removed]",
      "text/plain": [
       "<Figure size 432x288 with 1 Axes>"
      ]
     },
     "metadata": {
      "needs_background": "light"
     },
     "output_type": "display_data"
    }
   ],
   "source": [
    "feature_importance = (clf.coef_[0])\n",
    "feature_importance = 100.0 * (feature_importance / feature_importance.max())\n",
    "sorted_idx = np.argsort(feature_importance)\n",
    "pos = np.arange(sorted_idx.shape[0]) + .5\n",
    "\n",
    "featfig = plt.figure()\n",
    "featax = featfig.add_subplot(1, 1, 1)\n",
    "featax.barh(pos, feature_importance[sorted_idx], align='center')\n",
    "featax.set_yticks(pos)\n",
    "featax.set_yticklabels(np.array(X_train.columns)[sorted_idx], fontsize=8)\n",
    "featax.set_xlabel('Relative Feature Importance')\n",
    "\n",
    "plt.tight_layout()   \n",
    "plt.show()"
   ]
  },
  {
   "cell_type": "code",
   "execution_count": 48,
   "metadata": {},
   "outputs": [
    {
     "name": "stdout",
     "output_type": "stream",
     "text": [
      "0.9658333333333333\n"
     ]
    }
   ],
   "source": [
    "# Normalizing the feeding data see if it helps\n",
    "\n",
    "from sklearn.preprocessing import MinMaxScaler\n",
    "\n",
    "scaler = MinMaxScaler(feature_range = (0,1))\n",
    "\n",
    "scaler.fit(X_train)\n",
    "Xlr = scaler.transform(X_train)\n",
    "Xtestlr = scaler.transform(X_test)\n",
    "\n",
    "clf_scale = LogisticRegression()\n",
    "clf_scale.fit(Xlr, y_train)\n",
    "print(accuracy_score(clf_scale.predict(Xtestlr), y_test))"
   ]
  },
  {
   "cell_type": "markdown",
   "metadata": {},
   "source": [
    "Normalizing actually made the model worst. There is no continuous data in the dataset, so normalizing is not necessary. "
   ]
  },
  {
   "cell_type": "code",
   "execution_count": 49,
   "metadata": {},
   "outputs": [
    {
     "name": "stdout",
     "output_type": "stream",
     "text": [
      "(array([0.        , 0.01976411, 1.        ]), array([0.        , 0.94600432, 1.        ]), array([2, 1, 0]))\n",
      "0.9631201069104144\n"
     ]
    },
    {
     "data": {
      "text/plain": [
       "<sklearn.metrics._plot.roc_curve.RocCurveDisplay at 0x7fb2eb0ddf40>"
      ]
     },
     "execution_count": 49,
     "metadata": {},
     "output_type": "execute_result"
    },
    {
     "data": {
      "image/png": "[encoded data removed]",
      "text/plain": [
       "<Figure size 432x288 with 1 Axes>"
      ]
     },
     "metadata": {
      "needs_background": "light"
     },
     "output_type": "display_data"
    }
   ],
   "source": [
    "from sklearn.metrics import roc_curve, plot_roc_curve, roc_auc_score\n",
    "\n",
    "print(roc_curve(clf.predict(X_test), y_test))\n",
    "print(roc_auc_score(clf.predict(X_test), y_test))\n",
    "plot_roc_curve(clf, X_test, y_test)"
   ]
  },
  {
   "cell_type": "code",
   "execution_count": 50,
   "metadata": {},
   "outputs": [
    {
     "data": {
      "text/plain": [
       "array([[3075,   25],\n",
       "       [  62,  438]])"
      ]
     },
     "execution_count": 50,
     "metadata": {},
     "output_type": "execute_result"
    }
   ],
   "source": [
    "from sklearn.metrics import confusion_matrix, precision_score, recall_score\n",
    "y_pred = clf.predict(X_test)\n",
    "confusion_matrix(y_test, y_pred)"
   ]
  },
  {
   "cell_type": "code",
   "execution_count": 51,
   "metadata": {},
   "outputs": [
    {
     "name": "stdout",
     "output_type": "stream",
     "text": [
      "0.9460043196544277\n"
     ]
    }
   ],
   "source": [
    "print(precision_score(y_test, y_pred))"
   ]
  },
  {
   "cell_type": "code",
   "execution_count": 52,
   "metadata": {},
   "outputs": [
    {
     "name": "stdout",
     "output_type": "stream",
     "text": [
      "0.876\n"
     ]
    }
   ],
   "source": [
    "print(recall_score(y_test, y_pred))"
   ]
  },
  {
   "cell_type": "code",
   "execution_count": 53,
   "metadata": {},
   "outputs": [
    {
     "data": {
      "image/png": "[encoded data removed]",
      "text/plain": [
       "<Figure size 432x288 with 1 Axes>"
      ]
     },
     "metadata": {
      "needs_background": "light"
     },
     "output_type": "display_data"
    }
   ],
   "source": [
    "feature_importance = abs(clf.coef_[0])\n",
    "feature_importance = 100.0 * (feature_importance / feature_importance.max())\n",
    "sorted_idx = np.argsort(feature_importance)\n",
    "pos = np.arange(sorted_idx.shape[0]) + .5\n",
    "\n",
    "featfig = plt.figure()\n",
    "featax = featfig.add_subplot(1, 1, 1)\n",
    "featax.barh(pos, feature_importance[sorted_idx], align='center')\n",
    "featax.set_yticks(pos)\n",
    "featax.set_yticklabels(np.array(X_train.columns)[sorted_idx], fontsize=8)\n",
    "featax.set_xlabel('Relative Feature Importance')\n",
    "\n",
    "plt.tight_layout()   \n",
    "plt.show()"
   ]
  },
  {
   "cell_type": "markdown",
   "metadata": {},
   "source": [
    "From the diagram above, we can see that the creation source affect the most on the adoption. The invitation status and marketing drip condition also affect the adoption. "
   ]
  },
  {
   "cell_type": "code",
   "execution_count": 54,
   "metadata": {},
   "outputs": [
    {
     "name": "stdout",
     "output_type": "stream",
     "text": [
      "Fitting 5 folds for each of 10 candidates, totalling 50 fits\n"
     ]
    },
    {
     "name": "stderr",
     "output_type": "stream",
     "text": [
      "[Parallel(n_jobs=-1)]: Using backend LokyBackend with 8 concurrent workers.\n",
      "[Parallel(n_jobs=-1)]: Done  34 tasks      | elapsed:    2.9s\n",
      "[Parallel(n_jobs=-1)]: Done  50 out of  50 | elapsed:    3.8s finished\n"
     ]
    }
   ],
   "source": [
    "from sklearn.ensemble import RandomForestClassifier\n",
    "from sklearn.model_selection import GridSearchCV \n",
    "\n",
    "# Create first pipeline\n",
    "\n",
    "pipe = Pipeline([('classifier' , RandomForestClassifier())])\n",
    "# pipe = Pipeline([('classifier', RandomForestClassifier())])\n",
    "\n",
    "# Create param grid.\n",
    "\n",
    "param_grid = [\n",
    "    {'classifier' : [RandomForestClassifier()],\n",
    "    'classifier__n_estimators' : list(range(10,101,10))}\n",
    "]\n",
    "\n",
    "# Create grid search object\n",
    "\n",
    "clf_rf = GridSearchCV(pipe, param_grid = param_grid, cv = 5, verbose=True, n_jobs=-1)\n",
    "\n",
    "# Fit on data\n",
    "\n",
    "best_rf_clf = clf_rf.fit(X_train, y_train)"
   ]
  },
  {
   "cell_type": "code",
   "execution_count": 55,
   "metadata": {},
   "outputs": [
    {
     "name": "stdout",
     "output_type": "stream",
     "text": [
      "0.9652777777777778\n"
     ]
    }
   ],
   "source": [
    "print(accuracy_score(best_rf_clf.predict(X_test), y_test))"
   ]
  },
  {
   "cell_type": "code",
   "execution_count": 56,
   "metadata": {},
   "outputs": [
    {
     "name": "stdout",
     "output_type": "stream",
     "text": [
      "(array([0.        , 0.02308432, 1.        ]), array([0.        , 0.88981289, 1.        ]), array([2, 1, 0]))\n",
      "0.9333642839574229\n"
     ]
    },
    {
     "data": {
      "text/plain": [
       "<sklearn.metrics._plot.roc_curve.RocCurveDisplay at 0x7fb2eb609550>"
      ]
     },
     "execution_count": 56,
     "metadata": {},
     "output_type": "execute_result"
    },
    {
     "data": {
      "image/png": "[encoded data removed]",
      "text/plain": [
       "<Figure size 432x288 with 1 Axes>"
      ]
     },
     "metadata": {
      "needs_background": "light"
     },
     "output_type": "display_data"
    }
   ],
   "source": [
    "print(roc_curve(best_rf_clf.predict(X_test), y_test))\n",
    "print(roc_auc_score(best_rf_clf.predict(X_test), y_test))\n",
    "plot_roc_curve(best_rf_clf, X_test, y_test)"
   ]
  },
  {
   "cell_type": "code",
   "execution_count": 57,
   "metadata": {},
   "outputs": [
    {
     "data": {
      "text/plain": [
       "array([[3047,   53],\n",
       "       [  72,  428]])"
      ]
     },
     "execution_count": 57,
     "metadata": {},
     "output_type": "execute_result"
    }
   ],
   "source": [
    "y_pred = best_rf_clf.predict(X_test)\n",
    "confusion_matrix(y_test, y_pred)"
   ]
  },
  {
   "cell_type": "code",
   "execution_count": 58,
   "metadata": {},
   "outputs": [
    {
     "name": "stdout",
     "output_type": "stream",
     "text": [
      "0.8898128898128899\n"
     ]
    }
   ],
   "source": [
    "print(precision_score(y_test, y_pred))"
   ]
  },
  {
   "cell_type": "code",
   "execution_count": 59,
   "metadata": {},
   "outputs": [
    {
     "name": "stdout",
     "output_type": "stream",
     "text": [
      "0.856\n"
     ]
    }
   ],
   "source": [
    "print(recall_score(y_test, y_pred))"
   ]
  },
  {
   "cell_type": "markdown",
   "metadata": {},
   "source": [
    "Although the accuracy and precision got lower in the random forest classifier model, the recall is higher. It means the random forest model is better for finding all the positive sample, which is the adopted users in our case. The difference is vary tiny. I would say both models are good models."
   ]
  },
  {
   "cell_type": "code",
   "execution_count": 60,
   "metadata": {},
   "outputs": [
    {
     "data": {
      "text/plain": [
       "array([3.52739328e-03, 4.19537156e-03, 9.84304844e-01, 5.49954607e-04,\n",
       "       1.42351445e-03, 9.35467667e-04, 2.37253178e-03, 1.27676707e-03,\n",
       "       1.41415568e-03])"
      ]
     },
     "execution_count": 60,
     "metadata": {},
     "output_type": "execute_result"
    }
   ],
   "source": [
    "clf_rf.best_estimator_.named_steps['classifier'].feature_importances_"
   ]
  },
  {
   "cell_type": "code",
   "execution_count": 61,
   "metadata": {},
   "outputs": [
    {
     "data": {
      "image/png": "[encoded data removed]",
      "text/plain": [
       "<Figure size 432x288 with 1 Axes>"
      ]
     },
     "metadata": {
      "needs_background": "light"
     },
     "output_type": "display_data"
    }
   ],
   "source": [
    "feature_importance = abs(clf_rf.best_estimator_.named_steps['classifier'].feature_importances_)\n",
    "feature_importance = 100.0 * (feature_importance / feature_importance.max())\n",
    "sorted_idx = np.argsort(feature_importance)\n",
    "pos = np.arange(sorted_idx.shape[0]) + .5\n",
    "\n",
    "featfig = plt.figure()\n",
    "featax = featfig.add_subplot(1, 1, 1)\n",
    "featax.barh(pos, feature_importance[sorted_idx], align='center')\n",
    "featax.set_yticks(pos)\n",
    "featax.set_yticklabels(np.array(X_train.columns)[sorted_idx], fontsize=8)\n",
    "featax.set_xlabel('Relative Feature Importance')\n",
    "\n",
    "plt.tight_layout()   \n",
    "plt.show()"
   ]
  },
  {
   "cell_type": "markdown",
   "metadata": {},
   "source": [
    "The random forest model actually rate the features very differently. The days between creation day and last login becomes the most important feature for the model."
   ]
  },
  {
   "cell_type": "code",
   "execution_count": 62,
   "metadata": {},
   "outputs": [],
   "source": [
    "users_for_modeling_v2 = users.drop_duplicates().drop(['name','creation_time','last_session_creation_time','invited_by_user_id','email','org_id','object_id'], axis=1).dropna()"
   ]
  },
  {
   "cell_type": "code",
   "execution_count": 63,
   "metadata": {},
   "outputs": [],
   "source": [
    "users_for_modeling_v2 = pd.get_dummies(users_for_modeling_v2)"
   ]
  },
  {
   "cell_type": "code",
   "execution_count": 64,
   "metadata": {},
   "outputs": [
    {
     "name": "stdout",
     "output_type": "stream",
     "text": [
      "0.9625991688704193\n"
     ]
    },
    {
     "name": "stderr",
     "output_type": "stream",
     "text": [
      "/Users/lanxy/opt/anaconda3/lib/python3.8/site-packages/sklearn/linear_model/_logistic.py:762: ConvergenceWarning: lbfgs failed to converge (status=1):\n",
      "STOP: TOTAL NO. of ITERATIONS REACHED LIMIT.\n",
      "\n",
      "Increase the number of iterations (max_iter) or scale the data as shown in:\n",
      "    https://scikit-learn.org/stable/modules/preprocessing.html\n",
      "Please also refer to the documentation for alternative solver options:\n",
      "    https://scikit-learn.org/stable/modules/linear_model.html#logistic-regression\n",
      "  n_iter_i = _check_optimize_result(\n"
     ]
    }
   ],
   "source": [
    "# Split the data into a training and test set.\n",
    "X_train, X_test, y_train, y_test = train_test_split(users_for_modeling_v2.drop(['adopted'], axis=1), users_for_modeling_v2['adopted'] , \n",
    "                                                            test_size=0.3, random_state=42)\n",
    "\n",
    "clf_v2 = LogisticRegression()\n",
    "# Fit the model on the trainng data.\n",
    "clf_v2.fit(X_train, y_train)\n",
    "# Print the accuracy from the testing data.\n",
    "print(accuracy_score(clf_v2.predict(X_test), y_test))"
   ]
  },
  {
   "cell_type": "code",
   "execution_count": 65,
   "metadata": {},
   "outputs": [
    {
     "name": "stdout",
     "output_type": "stream",
     "text": [
      "(array([0.        , 0.03215434, 1.        ]), array([0.        , 0.93829787, 1.        ]), array([2, 1, 0]))\n",
      "0.9530717657522063\n"
     ]
    },
    {
     "data": {
      "text/plain": [
       "<sklearn.metrics._plot.roc_curve.RocCurveDisplay at 0x7fb2eb852220>"
      ]
     },
     "execution_count": 65,
     "metadata": {},
     "output_type": "execute_result"
    },
    {
     "data": {
      "image/png": "[encoded data removed]",
      "text/plain": [
       "<Figure size 432x288 with 1 Axes>"
      ]
     },
     "metadata": {
      "needs_background": "light"
     },
     "output_type": "display_data"
    }
   ],
   "source": [
    "print(roc_curve(clf_v2.predict(X_test), y_test))\n",
    "print(roc_auc_score(clf_v2.predict(X_test), y_test))\n",
    "plot_roc_curve(clf_v2, X_test, y_test)"
   ]
  },
  {
   "cell_type": "code",
   "execution_count": 66,
   "metadata": {},
   "outputs": [
    {
     "data": {
      "text/plain": [
       "array([[2107,   29],\n",
       "       [  70,  441]])"
      ]
     },
     "execution_count": 66,
     "metadata": {},
     "output_type": "execute_result"
    }
   ],
   "source": [
    "y_pred = clf_v2.predict(X_test)\n",
    "confusion_matrix(y_test, y_pred)"
   ]
  },
  {
   "cell_type": "code",
   "execution_count": 67,
   "metadata": {},
   "outputs": [
    {
     "name": "stdout",
     "output_type": "stream",
     "text": [
      "0.9382978723404255\n"
     ]
    }
   ],
   "source": [
    "print(precision_score(y_test, y_pred))"
   ]
  },
  {
   "cell_type": "code",
   "execution_count": 68,
   "metadata": {},
   "outputs": [
    {
     "name": "stdout",
     "output_type": "stream",
     "text": [
      "0.863013698630137\n"
     ]
    }
   ],
   "source": [
    "print(recall_score(y_test, y_pred))"
   ]
  },
  {
   "cell_type": "code",
   "execution_count": 71,
   "metadata": {},
   "outputs": [
    {
     "data": {
      "text/plain": [
       "array([ 0.4229755 , -0.18359454,  0.06238546,  0.00422806, -0.10802351,\n",
       "        0.11225158,  0.01718453, -0.18108131,  0.14957639])"
      ]
     },
     "execution_count": 71,
     "metadata": {},
     "output_type": "execute_result"
    }
   ],
   "source": [
    "clf_v2.coef_[0]"
   ]
  },
  {
   "cell_type": "code",
   "execution_count": 72,
   "metadata": {},
   "outputs": [
    {
     "data": {
      "image/png": "[encoded data removed]",
      "text/plain": [
       "<Figure size 432x288 with 1 Axes>"
      ]
     },
     "metadata": {
      "needs_background": "light"
     },
     "output_type": "display_data"
    }
   ],
   "source": [
    "feature_importance = abs(clf_v2.coef_[0])\n",
    "feature_importance = 100.0 * (feature_importance / feature_importance.max())\n",
    "sorted_idx = np.argsort(feature_importance)\n",
    "pos = np.arange(sorted_idx.shape[0]) + .5\n",
    "\n",
    "featfig = plt.figure()\n",
    "featax = featfig.add_subplot(1, 1, 1)\n",
    "featax.barh(pos, feature_importance[sorted_idx], align='center')\n",
    "featax.set_yticks(pos)\n",
    "featax.set_yticklabels(np.array(X_train.columns)[sorted_idx], fontsize=8)\n",
    "featax.set_xlabel('Relative Feature Importance')\n",
    "\n",
    "plt.tight_layout()   \n",
    "plt.show()"
   ]
  },
  {
   "cell_type": "code",
   "execution_count": 73,
   "metadata": {},
   "outputs": [
    {
     "name": "stdout",
     "output_type": "stream",
     "text": [
      "Fitting 5 folds for each of 10 candidates, totalling 50 fits\n"
     ]
    },
    {
     "name": "stderr",
     "output_type": "stream",
     "text": [
      "[Parallel(n_jobs=-1)]: Using backend LokyBackend with 8 concurrent workers.\n",
      "[Parallel(n_jobs=-1)]: Done  50 out of  50 | elapsed:    1.5s finished\n"
     ]
    }
   ],
   "source": [
    "# Create grid search object\n",
    "\n",
    "clf_rf_v2 = GridSearchCV(pipe, param_grid = param_grid, cv = 5, verbose=True, n_jobs=-1)\n",
    "\n",
    "# Fit on data\n",
    "\n",
    "best_rf_clf_v2 = clf_rf_v2.fit(X_train, y_train)"
   ]
  },
  {
   "cell_type": "code",
   "execution_count": 74,
   "metadata": {},
   "outputs": [
    {
     "name": "stdout",
     "output_type": "stream",
     "text": [
      "0.9516433698526634\n"
     ]
    }
   ],
   "source": [
    "print(accuracy_score(best_rf_clf_v2.predict(X_test), y_test))"
   ]
  },
  {
   "cell_type": "code",
   "execution_count": 75,
   "metadata": {},
   "outputs": [
    {
     "name": "stdout",
     "output_type": "stream",
     "text": [
      "(array([0.        , 0.03561517, 1.        ]), array([0.        , 0.89484536, 1.        ]), array([2, 1, 0]))\n",
      "0.9296150948434534\n"
     ]
    },
    {
     "data": {
      "text/plain": [
       "<sklearn.metrics._plot.roc_curve.RocCurveDisplay at 0x7fb2ea998f40>"
      ]
     },
     "execution_count": 75,
     "metadata": {},
     "output_type": "execute_result"
    },
    {
     "data": {
      "image/png": "[encoded data removed]",
      "text/plain": [
       "<Figure size 432x288 with 1 Axes>"
      ]
     },
     "metadata": {
      "needs_background": "light"
     },
     "output_type": "display_data"
    }
   ],
   "source": [
    "print(roc_curve(best_rf_clf_v2.predict(X_test), y_test))\n",
    "print(roc_auc_score(best_rf_clf_v2.predict(X_test), y_test))\n",
    "plot_roc_curve(best_rf_clf_v2, X_test, y_test)"
   ]
  },
  {
   "cell_type": "code",
   "execution_count": 76,
   "metadata": {},
   "outputs": [
    {
     "data": {
      "text/plain": [
       "array([[2085,   51],\n",
       "       [  77,  434]])"
      ]
     },
     "execution_count": 76,
     "metadata": {},
     "output_type": "execute_result"
    }
   ],
   "source": [
    "y_pred = best_rf_clf_v2.predict(X_test)\n",
    "confusion_matrix(y_test, y_pred)"
   ]
  },
  {
   "cell_type": "code",
   "execution_count": 77,
   "metadata": {},
   "outputs": [
    {
     "name": "stdout",
     "output_type": "stream",
     "text": [
      "0.8948453608247423\n"
     ]
    }
   ],
   "source": [
    "print(precision_score(y_test, y_pred))"
   ]
  },
  {
   "cell_type": "code",
   "execution_count": 78,
   "metadata": {},
   "outputs": [
    {
     "name": "stdout",
     "output_type": "stream",
     "text": [
      "0.8493150684931506\n"
     ]
    }
   ],
   "source": [
    "print(recall_score(y_test, y_pred))"
   ]
  },
  {
   "cell_type": "code",
   "execution_count": 79,
   "metadata": {},
   "outputs": [
    {
     "data": {
      "image/png": "[encoded data removed]",
      "text/plain": [
       "<Figure size 432x288 with 1 Axes>"
      ]
     },
     "metadata": {
      "needs_background": "light"
     },
     "output_type": "display_data"
    }
   ],
   "source": [
    "feature_importance = abs(clf_rf_v2.best_estimator_.named_steps['classifier'].feature_importances_)\n",
    "feature_importance = 100.0 * (feature_importance / feature_importance.max())\n",
    "sorted_idx = np.argsort(feature_importance)\n",
    "pos = np.arange(sorted_idx.shape[0]) + .5\n",
    "\n",
    "featfig = plt.figure()\n",
    "featax = featfig.add_subplot(1, 1, 1)\n",
    "featax.barh(pos, feature_importance[sorted_idx], align='center')\n",
    "featax.set_yticks(pos)\n",
    "featax.set_yticklabels(np.array(X_train.columns)[sorted_idx], fontsize=8)\n",
    "featax.set_xlabel('Relative Feature Importance')\n",
    "\n",
    "plt.tight_layout()   \n",
    "plt.show()"
   ]
  },
  {
   "cell_type": "markdown",
   "metadata": {},
   "source": [
    "In conclusion, both logistic classifier and random forest classifier work great on the dataset. They both have recall higher than 0.85 no matter how I imputed the missing data in days between logins. The company can focus on the period between last login and creation time to monitor if users are active. The random forest classifier model can give a pretty decent prediction based on that. If the days between logins are not reachable (such as many missing data), company can use the logistic classifier model instead with account creation method, mailing list and market drip information and so on. \n",
    "<br> There are rooms to improve the model, we only tried two modeling method. There might be other models that give us a higher recall score with similar accuracy and precision. "
   ]
  },
  {
   "cell_type": "code",
   "execution_count": null,
   "metadata": {},
   "outputs": [],
   "source": []
  }
 ],
 "metadata": {
  "kernelspec": {
   "display_name": "Python 3",
   "language": "python",
   "name": "python3"
  },
  "language_info": {
   "codemirror_mode": {
    "name": "ipython",
    "version": 3
   },
   "file_extension": ".py",
   "mimetype": "text/x-python",
   "name": "python",
   "nbconvert_exporter": "python",
   "pygments_lexer": "ipython3",
   "version": "3.8.5"
  }
 },
 "nbformat": 4,
 "nbformat_minor": 4
}

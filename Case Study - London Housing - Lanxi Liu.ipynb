The Data Science Pipeline
1. Sourcing and Loading
1.1 
